{
 "cells": [
  {
   "cell_type": "code",
   "execution_count": 5,
   "metadata": {
    "collapsed": false
   },
   "outputs": [
    {
     "data": {
      "text/plain": [
       "(285707, 5)"
      ]
     },
     "execution_count": 5,
     "metadata": {},
     "output_type": "execute_result"
    }
   ],
   "source": [
    "import pandas as pd\n",
    "from sklearn.cluster import KMeans\n",
    "import numpy as np\n",
    "from sklearn import preprocessing\n",
    "from sklearn.cross_validation import train_test_split\n",
    "df = pd.read_csv(\"/home/algo/Desktop/IMS/imp_metrics_pf.csv\")\n",
    "# df[\"last_trans\"] = pd.to_datetime(df[\"last_trans\"], format='%m/%d/%Y')\n",
    "df.shape"
   ]
  },
  {
   "cell_type": "code",
   "execution_count": 6,
   "metadata": {
    "collapsed": false
   },
   "outputs": [
    {
     "data": {
      "text/html": [
       "<div>\n",
       "<table border=\"1\" class=\"dataframe\">\n",
       "  <thead>\n",
       "    <tr style=\"text-align: right;\">\n",
       "      <th></th>\n",
       "      <th>id</th>\n",
       "      <th>seat</th>\n",
       "      <th>transaction</th>\n",
       "      <th>spend</th>\n",
       "      <th>end_date</th>\n",
       "    </tr>\n",
       "  </thead>\n",
       "  <tbody>\n",
       "    <tr>\n",
       "      <th>0</th>\n",
       "      <td>15</td>\n",
       "      <td>174</td>\n",
       "      <td>3</td>\n",
       "      <td>31.32</td>\n",
       "      <td>12/29/2015</td>\n",
       "    </tr>\n",
       "    <tr>\n",
       "      <th>1</th>\n",
       "      <td>89</td>\n",
       "      <td>27</td>\n",
       "      <td>5</td>\n",
       "      <td>682.49</td>\n",
       "      <td>8/8/2015</td>\n",
       "    </tr>\n",
       "  </tbody>\n",
       "</table>\n",
       "</div>"
      ],
      "text/plain": [
       "   id  seat  transaction   spend    end_date\n",
       "0  15   174            3   31.32  12/29/2015\n",
       "1  89    27            5  682.49    8/8/2015"
      ]
     },
     "execution_count": 6,
     "metadata": {},
     "output_type": "execute_result"
    }
   ],
   "source": [
    "df.head(2)"
   ]
  },
  {
   "cell_type": "code",
   "execution_count": 7,
   "metadata": {
    "collapsed": false
   },
   "outputs": [],
   "source": [
    "df1 = df.copy()\n",
    "df2 = df.copy()\n",
    "df1 = df1[['seat','transaction','spend']]\n",
    "df1['seat']= preprocessing.scale(df1['seat'].astype('float64'))\n",
    "df1['transaction']= preprocessing.scale(df1['transaction'].astype('float64'))\n",
    "df1['spend']= preprocessing.scale(df1['spend'].astype('float64'))\n",
    "# train,test = train_test_split(df1,test_size = 0.2,random_state = 123)\n",
    "df2['seat']= preprocessing.scale(df2['seat'].astype('float64'))\n",
    "df2['transaction']= preprocessing.scale(df2['transaction'].astype('float64'))\n",
    "df2['spend']= preprocessing.scale(df2['spend'].astype('float64'))\n"
   ]
  },
  {
   "cell_type": "code",
   "execution_count": 8,
   "metadata": {
    "collapsed": true
   },
   "outputs": [],
   "source": [
    "from scipy.spatial.distance import cdist\n",
    "clusters = range(1,30)\n",
    "mean_dist =[]\n",
    "for k in clusters:\n",
    "    model = KMeans(n_clusters = k)\n",
    "    model.fit(train)\n",
    "    clusassign = model.predict(train)\n",
    "    mean_dist.append(sum(np.min(cdist(train,model.cluster_centers_,'euclidean'),axis =1))\n",
    "                     / train.shape[0])\n",
    "\n"
   ]
  },
  {
   "cell_type": "code",
   "execution_count": 8,
   "metadata": {
    "collapsed": false
   },
   "outputs": [
    {
     "data": {
      "image/png": "[encoded data removed]",
      "text/plain": [
       "<matplotlib.figure.Figure at 0x7ff503c375c0>"
      ]
     },
     "metadata": {},
     "output_type": "display_data"
    }
   ],
   "source": [
    "# import matplotlib.pylab as plt\n",
    "# plt.plot(clusters,mean_dist)\n",
    "# plt.xlabel(\"Number of clusters\")\n",
    "# plt.ylabel(\"Average distance\")\n",
    "# plt.title(\"selecting k with elbow method\")\n",
    "# plt.show()\n"
   ]
  },
  {
   "cell_type": "code",
   "execution_count": 9,
   "metadata": {
    "collapsed": false
   },
   "outputs": [
    {
     "data": {
      "image/png": "[encoded data removed]",
      "text/plain": [
       "<matplotlib.figure.Figure at 0x7f6c120fe2e8>"
      ]
     },
     "metadata": {},
     "output_type": "display_data"
    }
   ],
   "source": [
    "train = df1\n",
    "model = KMeans(n_clusters= 4)\n",
    "model.fit(train)\n",
    "clusassign = model.predict(train)\n",
    "from sklearn.decomposition import PCA\n",
    "import matplotlib.pylab as plt\n",
    "pca2 = PCA(2)\n",
    "plot_columns = pca2.fit_transform(train)\n",
    "plt.scatter(x = plot_columns[:,0],y= plot_columns[:,1],c = model.labels_,)\n",
    "plt.show()"
   ]
  },
  {
   "cell_type": "code",
   "execution_count": 10,
   "metadata": {
    "collapsed": false
   },
   "outputs": [
    {
     "data": {
      "text/plain": [
       "(285707, 6)"
      ]
     },
     "execution_count": 10,
     "metadata": {},
     "output_type": "execute_result"
    }
   ],
   "source": [
    "train.reset_index(level = 0,inplace = True)\n",
    "train_df = pd.merge(train,df2,left_index = True,right_index = True)\n",
    "train_df.drop(['seat_y','transaction_y','spend_y'], axis=1,inplace = True)\n",
    "train_df.shape\n"
   ]
  },
  {
   "cell_type": "code",
   "execution_count": 11,
   "metadata": {
    "collapsed": true
   },
   "outputs": [],
   "source": [
    "cluslist = list(train_df.index)\n",
    "labels = list(model.labels_)\n",
    "newlist = dict(zip(cluslist,labels))\n"
   ]
  },
  {
   "cell_type": "code",
   "execution_count": 12,
   "metadata": {
    "collapsed": true
   },
   "outputs": [],
   "source": [
    "newclus = pd.DataFrame.from_dict(newlist,orient = \"index\")\n",
    "newclus.columns = ['cluster']\n",
    "newclus.reset_index(level =0 , inplace = True)\n"
   ]
  },
  {
   "cell_type": "code",
   "execution_count": 13,
   "metadata": {
    "collapsed": false
   },
   "outputs": [
    {
     "data": {
      "text/plain": [
       "1    160819\n",
       "2     78019\n",
       "0     37209\n",
       "3      9660\n",
       "Name: cluster, dtype: int64"
      ]
     },
     "execution_count": 13,
     "metadata": {},
     "output_type": "execute_result"
    }
   ],
   "source": [
    "merged = pd.merge(train_df,newclus,left_index = True,right_index = True)\n",
    "\n",
    "merged.cluster.value_counts()\n"
   ]
  },
  {
   "cell_type": "code",
   "execution_count": 14,
   "metadata": {
    "collapsed": true
   },
   "outputs": [],
   "source": [
    "final = pd.merge(merged,df,left_index = True,right_index = True)\n"
   ]
  },
  {
   "cell_type": "code",
   "execution_count": 15,
   "metadata": {
    "collapsed": false
   },
   "outputs": [],
   "source": [
    "final.to_csv(\"/home/algo/Desktop/4clusters_output.csv\",index = False)\n"
   ]
  }
 ],
 "metadata": {
  "kernelspec": {
   "display_name": "Python 3",
   "language": "python",
   "name": "python3"
  },
  "language_info": {
   "codemirror_mode": {
    "name": "ipython",
    "version": 3
   },
   "file_extension": ".py",
   "mimetype": "text/x-python",
   "name": "python",
   "nbconvert_exporter": "python",
   "pygments_lexer": "ipython3",
   "version": "3.5.2"
  }
 },
 "nbformat": 4,
 "nbformat_minor": 1
}
